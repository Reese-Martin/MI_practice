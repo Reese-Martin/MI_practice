{
  "nbformat": 4,
  "nbformat_minor": 0,
  "metadata": {
    "colab": {
      "provenance": [],
      "authorship_tag": "ABX9TyOmmI5jU58y1mtBr2MXI59U",
      "include_colab_link": true
    },
    "kernelspec": {
      "name": "python3",
      "display_name": "Python 3"
    },
    "language_info": {
      "name": "python"
    }
  },
  "cells": [
    {
      "cell_type": "markdown",
      "metadata": {
        "id": "view-in-github",
        "colab_type": "text"
      },
      "source": [
        "<a href=\"https://colab.research.google.com/github/Reese-Martin/MI_practice/blob/main/MI_Hooks.ipynb\" target=\"_parent\"><img src=\"https://colab.research.google.com/assets/colab-badge.svg\" alt=\"Open In Colab\"/></a>"
      ]
    },
    {
      "cell_type": "code",
      "execution_count": null,
      "metadata": {
        "id": "JsdAnBJQ7_xR"
      },
      "outputs": [],
      "source": [
        "%pip install einops fancy_einsum torchtyping transformer_lens circuitsvis plot_utils\n"
      ]
    },
    {
      "cell_type": "code",
      "source": [
        "\n",
        "# imports come straight from the streamlit page\n",
        "import os; os.environ[\"ACCELERATE_DISABLE_RICH\"] = \"1\"\n",
        "import plotly.express as px\n",
        "import plotly.io as pio\n",
        "pio.renderers.default = \"notebook_connected\" # or use \"browser\" if you want plots to open with browser\n",
        "import plotly.graph_objects as go\n",
        "import torch as t\n",
        "import torch.nn as nn\n",
        "import torch.nn.functional as F\n",
        "import numpy as np\n",
        "import einops\n",
        "from fancy_einsum import einsum\n",
        "from torchtyping import TensorType as TT\n",
        "from typing import List, Optional, Tuple, Union\n",
        "import functools\n",
        "from tqdm import tqdm\n",
        "from IPython.display import display\n",
        "\n",
        "from transformer_lens.hook_points import HookPoint\n",
        "from transformer_lens import utils, HookedTransformer, HookedTransformerConfig, FactoredMatrix, ActivationCache\n",
        "import circuitsvis as cv\n",
        "\n",
        "import tests\n",
        "import plot_utils\n",
        "\n",
        "# Saves computation time, since we don't need it for the contents of this notebook\n",
        "t.set_grad_enabled(False)\n",
        "\n",
        "MAIN = __name__ == \"__main__\"\n",
        "\n",
        "def imshow(tensor, xaxis=\"\", yaxis=\"\", caxis=\"\", **kwargs):\n",
        "    return px.imshow(utils.to_numpy(tensor), color_continuous_midpoint=0.0, color_continuous_scale=\"RdBu\", labels={\"x\":xaxis, \"y\":yaxis, \"color\":caxis}, **kwargs)\n",
        "\n",
        "def line(tensor, xaxis=\"\", yaxis=\"\", **kwargs):\n",
        "    return px.line(utils.to_numpy(tensor), labels={\"x\":xaxis, \"y\":yaxis}, **kwargs)\n",
        "\n",
        "def scatter(x, y, xaxis=\"\", yaxis=\"\", caxis=\"\", **kwargs):\n",
        "    x = utils.to_numpy(x)\n",
        "    y = utils.to_numpy(y)\n",
        "    return px.scatter(y=y, x=x, labels={\"x\":xaxis, \"y\":yaxis, \"color\":caxis}, **kwargs)"
      ],
      "metadata": {
        "id": "nV0ocR3k8E6h"
      },
      "execution_count": null,
      "outputs": []
    },
    {
      "cell_type": "code",
      "source": [
        "\n",
        "from google.colab import drive\n",
        "drive.mount('/content/drive')"
      ],
      "metadata": {
        "id": "9dMETndd8L2y"
      },
      "execution_count": null,
      "outputs": []
    },
    {
      "cell_type": "code",
      "source": [],
      "metadata": {
        "id": "7QUwUe-c8MUN"
      },
      "execution_count": null,
      "outputs": []
    }
  ]
}